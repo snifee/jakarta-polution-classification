{
  "cells": [
    {
      "cell_type": "markdown",
      "source": [
        "#Model Klasifikasi Polusi Udara DKI Jakarka"
      ],
      "metadata": {
        "id": "H-gds_ksioir"
      }
    },
    {
      "cell_type": "markdown",
      "source": [
        "# Import & install library \n",
        "Import & Menginstall library yang dibutuhkan dalam pengembangan proyek  data sains"
      ],
      "metadata": {
        "id": "yvvfp8jqDLx9"
      }
    },
    {
      "cell_type": "code",
      "source": [
        "!pip install wget"
      ],
      "metadata": {
        "id": "scm6vExftMY9",
        "colab": {
          "base_uri": "https://localhost:8080/"
        },
        "outputId": "26f6e8bb-d9ed-421f-92c8-2d7debc28801"
      },
      "execution_count": null,
      "outputs": [
        {
          "output_type": "stream",
          "name": "stdout",
          "text": [
            "Looking in indexes: https://pypi.org/simple, https://us-python.pkg.dev/colab-wheels/public/simple/\n",
            "Collecting wget\n",
            "  Downloading wget-3.2.zip (10 kB)\n",
            "Building wheels for collected packages: wget\n",
            "  Building wheel for wget (setup.py) ... \u001b[?25l\u001b[?25hdone\n",
            "  Created wheel for wget: filename=wget-3.2-py3-none-any.whl size=9675 sha256=c0b1a34aae4aa3136ef8afc730f92ed0a04e3ab1d6efadcb0743a55d8241e8da\n",
            "  Stored in directory: /root/.cache/pip/wheels/a1/b6/7c/0e63e34eb06634181c63adacca38b79ff8f35c37e3c13e3c02\n",
            "Successfully built wget\n",
            "Installing collected packages: wget\n",
            "Successfully installed wget-3.2\n"
          ]
        }
      ]
    },
    {
      "cell_type": "code",
      "source": [
        "import wget"
      ],
      "metadata": {
        "id": "rr3ESyS0tSBP"
      },
      "execution_count": null,
      "outputs": []
    },
    {
      "cell_type": "code",
      "execution_count": null,
      "metadata": {
        "id": "yPG59DmSDBha"
      },
      "outputs": [],
      "source": [
        "import numpy as np\n",
        "import matplotlib.pyplot as plt\n",
        "import pandas as pd\n",
        "%matplotlib inline\n",
        "import seaborn as sns\n",
        "from scipy.io import loadmat"
      ]
    },
    {
      "cell_type": "markdown",
      "source": [
        "# Download Dataset\n",
        "\n",
        "\n",
        "\n"
      ],
      "metadata": {
        "id": "cH6rGCx7Dh-H"
      }
    },
    {
      "cell_type": "markdown",
      "source": [
        "* Dataset yang akan diolah diunduh dari [data.jakarta.go.id](https://data.jakarta.go.id)\n",
        "* Dataset yang diunduh merupakan dataset yang masing-masing file menyimpan data harian dari polusi udara di Provinsi Jakarta Selama sebulan\n",
        "* Terdapat 12 file dataset yang diunduh dan akan dijadikan satu dataframe\n",
        "\n",
        "Kolom yang terdapat pada datasets\n",
        "1. tanggal : Tanggal pengukuran kualitas udara\n",
        "2. pm10 : Partikulat salah satu parameter yang diukur\n",
        "3. so2 : Sulfida (dalam bentuk SO2) salah satu parameter yang diukur\n",
        "4. co : Carbon Monoksida salah satu parameter yand diukur\n",
        "5. o3 : Ozon salah satu parameter yang diukur\n",
        "6. no2 : NItrogen dioksida salah satu parameter yang diukur\n",
        "7. max : Nilai ukur paling tinggi dari seluruh parameter yang diukur dalam waktu yang sama\n",
        "8. critical : Parameter yang hasil pengukurannya paling tinggi\n",
        "9. categori : Kategori hasil perhitungan indeks standar pencemaran udara"
      ],
      "metadata": {
        "id": "ERisTD7IqKKE"
      }
    },
    {
      "cell_type": "markdown",
      "source": [
        "## Datasets 2021"
      ],
      "metadata": {
        "id": "kamXmgmJOLdC"
      }
    },
    {
      "cell_type": "markdown",
      "source": [
        "### Download Link"
      ],
      "metadata": {
        "id": "8d0Du7bjudL6"
      }
    },
    {
      "cell_type": "code",
      "source": [
        "link_datasets_2021 = [\n",
        "                 'https://data.jakarta.go.id/dataset/3b56c00404adf8feb3f667cbbd700b7c/resource/1494b7f4bca51e2361e28a2aa38acbb2/download/Indeks-Standar-Pencemar-Udara-di-Provinsi-DKI-Jakarta-Bulan-Januari-Tahun-2021.csv',\n",
        "                 'https://data.jakarta.go.id/dataset/3b56c00404adf8feb3f667cbbd700b7c/resource/57b5340a16e07a992b7c965dcfa9190a/download/Indeks-Standar-Pencemar-Udara-di-Provinsi-DKI-Jakarta-Bulan-Februari-Tahun-2021.csv',\n",
        "                 'https://data.jakarta.go.id/dataset/3b56c00404adf8feb3f667cbbd700b7c/resource/515199946526f55b7757d24381a6ec7f/download/Indeks-Standar-Pencemar-Udara-di-Provinsi-DKI-Jakarta-Bulan-Maret-Tahun-2021.csv',\n",
        "                 'https://data.jakarta.go.id/dataset/3b56c00404adf8feb3f667cbbd700b7c/resource/f0b491d322a4fbf976bedf20276fb8b1/download/Indeks-Standar-Pencemar-Udara-di-Provinsi-DKI-Jakarta-Bulan-April-Tahun-2021.csv',\n",
        "                 'https://data.jakarta.go.id/dataset/3b56c00404adf8feb3f667cbbd700b7c/resource/e2533e4ceebc9b271142d7b7e3f12780/download/Indeks-Standar-Pencemar-Udara-di-Provinsi-DKI-Jakarta-Bulan-Mei-Tahun-2021.csv',\n",
        "                 'https://data.jakarta.go.id/dataset/3b56c00404adf8feb3f667cbbd700b7c/resource/6038c6062c8025c8364e6518de7348a2/download/Indeks-Standar-Pencemar-Udara-di-Provinsi-DKI-Jakarta-Bulan-Juni-Tahun-2021.csv',\n",
        "                 'https://data.jakarta.go.id/dataset/3b56c00404adf8feb3f667cbbd700b7c/resource/78cc249fa5ed50a27a49746fcbfc7a3d/download/Indeks-Standar-Pencemar-Udara-di-Provinsi-DKI-Jakarta-Bulan-Juli-Tahun-2021.csv',\n",
        "                 'https://data.jakarta.go.id/dataset/3b56c00404adf8feb3f667cbbd700b7c/resource/86799741890d53e7494a60aee89f8c45/download/Indeks-Standar-Pencemar-Udara-di-Provinsi-DKI-Jakarta-Bulan-Agustus-Tahun-2021.csv',\n",
        "                 'https://data.jakarta.go.id/dataset/3b56c00404adf8feb3f667cbbd700b7c/resource/9a0285888a9de2a76d26217b7cfb0018/download/Indeks-Standar-Pencemar-Udara-di-Provinsi-DKI-Jakarta-Bulan-September-Tahun-2021.csv',\n",
        "                 'https://data.jakarta.go.id/dataset/3b56c00404adf8feb3f667cbbd700b7c/resource/afdc4318e12c8df62e77ad8377bb21a3/download/Indeks-Standar-Pencemar-Udara-di-Provinsi-DKI-Jakarta-Bulan-November-Tahun-2021.csv',\n",
        "                 'https://data.jakarta.go.id/dataset/3b56c00404adf8feb3f667cbbd700b7c/resource/4799141d98e5fc48bb991f407cf82ae1/download/Indeks-Standar-Pencemar-Udara-di-Provinsi-DKI-Jakarta-Bulan-Desember-Tahun-2021.csv',\n",
        "\n",
        "]\n",
        "\n",
        "files_2021 = []\n",
        "\n",
        "\n",
        "for link in link_datasets_2021:\n",
        "  file = wget.download(link)\n",
        "  files_2021.append(file)"
      ],
      "metadata": {
        "id": "BSq_J6por8tP"
      },
      "execution_count": null,
      "outputs": []
    },
    {
      "cell_type": "markdown",
      "source": [
        "### Menggabungkan 12 Dataframe dari 12 File menjadi 1 dataframe"
      ],
      "metadata": {
        "id": "-GBEkIqnUE7r"
      }
    },
    {
      "cell_type": "code",
      "source": [
        "dataframe_2021 = pd.read_csv(files_2021[0])\n",
        "\n",
        "files_2021.remove(files_2021[0])"
      ],
      "metadata": {
        "id": "60bIs7C4uz5U"
      },
      "execution_count": null,
      "outputs": []
    },
    {
      "cell_type": "code",
      "source": [
        "for file in files_2021:\n",
        "  df = pd.read_csv(file)\n",
        "  dataframe_2021 = dataframe_2021.append(df,ignore_index=True)"
      ],
      "metadata": {
        "id": "ukFvVne3QaV8"
      },
      "execution_count": null,
      "outputs": []
    },
    {
      "cell_type": "code",
      "source": [
        "file = wget.download('https://data.jakarta.go.id/dataset/3b56c00404adf8feb3f667cbbd700b7c/resource/bf31cca411fd1eec04311944d919f638/download/Indeks-Standar-Pencemar-Udara-di-Provinsi-DKI-Jakarta-Bulan-Oktober-Tahun-2021.csv')\n",
        "df_oktober = pd.read_csv(file)\n",
        "\n",
        "df_oktober.rename(columns = {'no3':'no2'}, inplace = True)"
      ],
      "metadata": {
        "id": "C3F92mfzQs6t"
      },
      "execution_count": null,
      "outputs": []
    },
    {
      "cell_type": "code",
      "source": [
        "dataframe_2021 = dataframe_2021.append(df_oktober,ignore_index=True)"
      ],
      "metadata": {
        "id": "46KEPi-1ScGn"
      },
      "execution_count": null,
      "outputs": []
    },
    {
      "cell_type": "code",
      "source": [
        "dataframe = dataframe_2021"
      ],
      "metadata": {
        "id": "ybnJOIwkLg5H"
      },
      "execution_count": null,
      "outputs": []
    },
    {
      "cell_type": "code",
      "source": [
        "dataframe"
      ],
      "metadata": {
        "colab": {
          "base_uri": "https://localhost:8080/"
        },
        "id": "cdilnWu6sdO6",
        "outputId": "5db969d5-fc3a-4459-a490-891bf2968344"
      },
      "execution_count": null,
      "outputs": [
        {
          "output_type": "execute_result",
          "data": {
            "text/plain": [
              "        tanggal  pm10  so2  co  o3  no2  max critical     categori location  \\\n",
              "0    2021-01-01    43   58  29  35   65   65       O3       SEDANG     DKI2   \n",
              "1    2021-01-02    58   86  38  64   80   86     PM25       SEDANG     DKI3   \n",
              "2    2021-01-03    64   93  25  62   86   93     PM25       SEDANG     DKI3   \n",
              "3    2021-01-04    50   67  24  31   77   77       O3       SEDANG     DKI2   \n",
              "4    2021-01-05    59   89  24  35   77   89     PM25       SEDANG     DKI3   \n",
              "..          ...   ...  ...  ..  ..  ...  ...      ...          ...      ...   \n",
              "360  2021-10-27    62   64  15  50   39   90     PM25       SEDANG     DKI4   \n",
              "361  2021-10-28    54   67  16  56   39   78     PM25       SEDANG     DKI4   \n",
              "362  2021-10-29    54   80  19  49   35   80      SO2       SEDANG     DKI2   \n",
              "363  2021-10-30    64   81  15  58   40  103     PM25  TIDAK SEHAT     DKI4   \n",
              "364  2021-10-31    56   63  28  56   32   79     PM25       SEDANG     DKI4   \n",
              "\n",
              "      pm25  \n",
              "0      NaN  \n",
              "1      NaN  \n",
              "2      NaN  \n",
              "3      NaN  \n",
              "4      NaN  \n",
              "..     ...  \n",
              "360   90.0  \n",
              "361   78.0  \n",
              "362   79.0  \n",
              "363  103.0  \n",
              "364   79.0  \n",
              "\n",
              "[365 rows x 11 columns]"
            ],
            "text/html": [
              "\n",
              "  <div id=\"df-babdad14-cd4f-4e88-8ecc-435212f49c30\">\n",
              "    <div class=\"colab-df-container\">\n",
              "      <div>\n",
              "<style scoped>\n",
              "    .dataframe tbody tr th:only-of-type {\n",
              "        vertical-align: middle;\n",
              "    }\n",
              "\n",
              "    .dataframe tbody tr th {\n",
              "        vertical-align: top;\n",
              "    }\n",
              "\n",
              "    .dataframe thead th {\n",
              "        text-align: right;\n",
              "    }\n",
              "</style>\n",
              "<table border=\"1\" class=\"dataframe\">\n",
              "  <thead>\n",
              "    <tr style=\"text-align: right;\">\n",
              "      <th></th>\n",
              "      <th>tanggal</th>\n",
              "      <th>pm10</th>\n",
              "      <th>so2</th>\n",
              "      <th>co</th>\n",
              "      <th>o3</th>\n",
              "      <th>no2</th>\n",
              "      <th>max</th>\n",
              "      <th>critical</th>\n",
              "      <th>categori</th>\n",
              "      <th>location</th>\n",
              "      <th>pm25</th>\n",
              "    </tr>\n",
              "  </thead>\n",
              "  <tbody>\n",
              "    <tr>\n",
              "      <th>0</th>\n",
              "      <td>2021-01-01</td>\n",
              "      <td>43</td>\n",
              "      <td>58</td>\n",
              "      <td>29</td>\n",
              "      <td>35</td>\n",
              "      <td>65</td>\n",
              "      <td>65</td>\n",
              "      <td>O3</td>\n",
              "      <td>SEDANG</td>\n",
              "      <td>DKI2</td>\n",
              "      <td>NaN</td>\n",
              "    </tr>\n",
              "    <tr>\n",
              "      <th>1</th>\n",
              "      <td>2021-01-02</td>\n",
              "      <td>58</td>\n",
              "      <td>86</td>\n",
              "      <td>38</td>\n",
              "      <td>64</td>\n",
              "      <td>80</td>\n",
              "      <td>86</td>\n",
              "      <td>PM25</td>\n",
              "      <td>SEDANG</td>\n",
              "      <td>DKI3</td>\n",
              "      <td>NaN</td>\n",
              "    </tr>\n",
              "    <tr>\n",
              "      <th>2</th>\n",
              "      <td>2021-01-03</td>\n",
              "      <td>64</td>\n",
              "      <td>93</td>\n",
              "      <td>25</td>\n",
              "      <td>62</td>\n",
              "      <td>86</td>\n",
              "      <td>93</td>\n",
              "      <td>PM25</td>\n",
              "      <td>SEDANG</td>\n",
              "      <td>DKI3</td>\n",
              "      <td>NaN</td>\n",
              "    </tr>\n",
              "    <tr>\n",
              "      <th>3</th>\n",
              "      <td>2021-01-04</td>\n",
              "      <td>50</td>\n",
              "      <td>67</td>\n",
              "      <td>24</td>\n",
              "      <td>31</td>\n",
              "      <td>77</td>\n",
              "      <td>77</td>\n",
              "      <td>O3</td>\n",
              "      <td>SEDANG</td>\n",
              "      <td>DKI2</td>\n",
              "      <td>NaN</td>\n",
              "    </tr>\n",
              "    <tr>\n",
              "      <th>4</th>\n",
              "      <td>2021-01-05</td>\n",
              "      <td>59</td>\n",
              "      <td>89</td>\n",
              "      <td>24</td>\n",
              "      <td>35</td>\n",
              "      <td>77</td>\n",
              "      <td>89</td>\n",
              "      <td>PM25</td>\n",
              "      <td>SEDANG</td>\n",
              "      <td>DKI3</td>\n",
              "      <td>NaN</td>\n",
              "    </tr>\n",
              "    <tr>\n",
              "      <th>...</th>\n",
              "      <td>...</td>\n",
              "      <td>...</td>\n",
              "      <td>...</td>\n",
              "      <td>...</td>\n",
              "      <td>...</td>\n",
              "      <td>...</td>\n",
              "      <td>...</td>\n",
              "      <td>...</td>\n",
              "      <td>...</td>\n",
              "      <td>...</td>\n",
              "      <td>...</td>\n",
              "    </tr>\n",
              "    <tr>\n",
              "      <th>360</th>\n",
              "      <td>2021-10-27</td>\n",
              "      <td>62</td>\n",
              "      <td>64</td>\n",
              "      <td>15</td>\n",
              "      <td>50</td>\n",
              "      <td>39</td>\n",
              "      <td>90</td>\n",
              "      <td>PM25</td>\n",
              "      <td>SEDANG</td>\n",
              "      <td>DKI4</td>\n",
              "      <td>90.0</td>\n",
              "    </tr>\n",
              "    <tr>\n",
              "      <th>361</th>\n",
              "      <td>2021-10-28</td>\n",
              "      <td>54</td>\n",
              "      <td>67</td>\n",
              "      <td>16</td>\n",
              "      <td>56</td>\n",
              "      <td>39</td>\n",
              "      <td>78</td>\n",
              "      <td>PM25</td>\n",
              "      <td>SEDANG</td>\n",
              "      <td>DKI4</td>\n",
              "      <td>78.0</td>\n",
              "    </tr>\n",
              "    <tr>\n",
              "      <th>362</th>\n",
              "      <td>2021-10-29</td>\n",
              "      <td>54</td>\n",
              "      <td>80</td>\n",
              "      <td>19</td>\n",
              "      <td>49</td>\n",
              "      <td>35</td>\n",
              "      <td>80</td>\n",
              "      <td>SO2</td>\n",
              "      <td>SEDANG</td>\n",
              "      <td>DKI2</td>\n",
              "      <td>79.0</td>\n",
              "    </tr>\n",
              "    <tr>\n",
              "      <th>363</th>\n",
              "      <td>2021-10-30</td>\n",
              "      <td>64</td>\n",
              "      <td>81</td>\n",
              "      <td>15</td>\n",
              "      <td>58</td>\n",
              "      <td>40</td>\n",
              "      <td>103</td>\n",
              "      <td>PM25</td>\n",
              "      <td>TIDAK SEHAT</td>\n",
              "      <td>DKI4</td>\n",
              "      <td>103.0</td>\n",
              "    </tr>\n",
              "    <tr>\n",
              "      <th>364</th>\n",
              "      <td>2021-10-31</td>\n",
              "      <td>56</td>\n",
              "      <td>63</td>\n",
              "      <td>28</td>\n",
              "      <td>56</td>\n",
              "      <td>32</td>\n",
              "      <td>79</td>\n",
              "      <td>PM25</td>\n",
              "      <td>SEDANG</td>\n",
              "      <td>DKI4</td>\n",
              "      <td>79.0</td>\n",
              "    </tr>\n",
              "  </tbody>\n",
              "</table>\n",
              "<p>365 rows × 11 columns</p>\n",
              "</div>\n",
              "      <button class=\"colab-df-convert\" onclick=\"convertToInteractive('df-babdad14-cd4f-4e88-8ecc-435212f49c30')\"\n",
              "              title=\"Convert this dataframe to an interactive table.\"\n",
              "              style=\"display:none;\">\n",
              "        \n",
              "  <svg xmlns=\"http://www.w3.org/2000/svg\" height=\"24px\"viewBox=\"0 0 24 24\"\n",
              "       width=\"24px\">\n",
              "    <path d=\"M0 0h24v24H0V0z\" fill=\"none\"/>\n",
              "    <path d=\"M18.56 5.44l.94 2.06.94-2.06 2.06-.94-2.06-.94-.94-2.06-.94 2.06-2.06.94zm-11 1L8.5 8.5l.94-2.06 2.06-.94-2.06-.94L8.5 2.5l-.94 2.06-2.06.94zm10 10l.94 2.06.94-2.06 2.06-.94-2.06-.94-.94-2.06-.94 2.06-2.06.94z\"/><path d=\"M17.41 7.96l-1.37-1.37c-.4-.4-.92-.59-1.43-.59-.52 0-1.04.2-1.43.59L10.3 9.45l-7.72 7.72c-.78.78-.78 2.05 0 2.83L4 21.41c.39.39.9.59 1.41.59.51 0 1.02-.2 1.41-.59l7.78-7.78 2.81-2.81c.8-.78.8-2.07 0-2.86zM5.41 20L4 18.59l7.72-7.72 1.47 1.35L5.41 20z\"/>\n",
              "  </svg>\n",
              "      </button>\n",
              "      \n",
              "  <style>\n",
              "    .colab-df-container {\n",
              "      display:flex;\n",
              "      flex-wrap:wrap;\n",
              "      gap: 12px;\n",
              "    }\n",
              "\n",
              "    .colab-df-convert {\n",
              "      background-color: #E8F0FE;\n",
              "      border: none;\n",
              "      border-radius: 50%;\n",
              "      cursor: pointer;\n",
              "      display: none;\n",
              "      fill: #1967D2;\n",
              "      height: 32px;\n",
              "      padding: 0 0 0 0;\n",
              "      width: 32px;\n",
              "    }\n",
              "\n",
              "    .colab-df-convert:hover {\n",
              "      background-color: #E2EBFA;\n",
              "      box-shadow: 0px 1px 2px rgba(60, 64, 67, 0.3), 0px 1px 3px 1px rgba(60, 64, 67, 0.15);\n",
              "      fill: #174EA6;\n",
              "    }\n",
              "\n",
              "    [theme=dark] .colab-df-convert {\n",
              "      background-color: #3B4455;\n",
              "      fill: #D2E3FC;\n",
              "    }\n",
              "\n",
              "    [theme=dark] .colab-df-convert:hover {\n",
              "      background-color: #434B5C;\n",
              "      box-shadow: 0px 1px 3px 1px rgba(0, 0, 0, 0.15);\n",
              "      filter: drop-shadow(0px 1px 2px rgba(0, 0, 0, 0.3));\n",
              "      fill: #FFFFFF;\n",
              "    }\n",
              "  </style>\n",
              "\n",
              "      <script>\n",
              "        const buttonEl =\n",
              "          document.querySelector('#df-babdad14-cd4f-4e88-8ecc-435212f49c30 button.colab-df-convert');\n",
              "        buttonEl.style.display =\n",
              "          google.colab.kernel.accessAllowed ? 'block' : 'none';\n",
              "\n",
              "        async function convertToInteractive(key) {\n",
              "          const element = document.querySelector('#df-babdad14-cd4f-4e88-8ecc-435212f49c30');\n",
              "          const dataTable =\n",
              "            await google.colab.kernel.invokeFunction('convertToInteractive',\n",
              "                                                     [key], {});\n",
              "          if (!dataTable) return;\n",
              "\n",
              "          const docLinkHtml = 'Like what you see? Visit the ' +\n",
              "            '<a target=\"_blank\" href=https://colab.research.google.com/notebooks/data_table.ipynb>data table notebook</a>'\n",
              "            + ' to learn more about interactive tables.';\n",
              "          element.innerHTML = '';\n",
              "          dataTable['output_type'] = 'display_data';\n",
              "          await google.colab.output.renderOutput(dataTable, element);\n",
              "          const docLink = document.createElement('div');\n",
              "          docLink.innerHTML = docLinkHtml;\n",
              "          element.appendChild(docLink);\n",
              "        }\n",
              "      </script>\n",
              "    </div>\n",
              "  </div>\n",
              "  "
            ]
          },
          "metadata": {},
          "execution_count": 10
        }
      ]
    },
    {
      "cell_type": "markdown",
      "source": [
        "# Data Understanding"
      ],
      "metadata": {
        "id": "yXS2zpuUE0tt"
      }
    },
    {
      "cell_type": "markdown",
      "source": [
        "## Melihat informasi dari dataframe"
      ],
      "metadata": {
        "id": "B5AvlnJriVj9"
      }
    },
    {
      "cell_type": "markdown",
      "source": [
        "Melakukan pengecekan infromasi pada dataframe menggunakan fungsi **info()**. Terlihat bahwa terdapat dua kolom yang bertipe int. Dari datasets yang telah di-*load* terdapat sembilan buah kolom. Dimana pada kolom output merupakan label dari datasets"
      ],
      "metadata": {
        "id": "RrBYzkTfnPx6"
      }
    },
    {
      "cell_type": "code",
      "source": [
        "dataframe.info()"
      ],
      "metadata": {
        "colab": {
          "base_uri": "https://localhost:8080/"
        },
        "id": "zVK0LqsXfdkY",
        "outputId": "bbb460f9-7eee-4168-c5bb-ecae0b784e8b"
      },
      "execution_count": null,
      "outputs": [
        {
          "output_type": "stream",
          "name": "stdout",
          "text": [
            "<class 'pandas.core.frame.DataFrame'>\n",
            "RangeIndex: 365 entries, 0 to 364\n",
            "Data columns (total 11 columns):\n",
            " #   Column    Non-Null Count  Dtype  \n",
            "---  ------    --------------  -----  \n",
            " 0   tanggal   365 non-null    object \n",
            " 1   pm10      365 non-null    int64  \n",
            " 2   so2       365 non-null    int64  \n",
            " 3   co        365 non-null    int64  \n",
            " 4   o3        365 non-null    int64  \n",
            " 5   no2       365 non-null    int64  \n",
            " 6   max       365 non-null    int64  \n",
            " 7   critical  365 non-null    object \n",
            " 8   categori  365 non-null    object \n",
            " 9   location  365 non-null    object \n",
            " 10  pm25      334 non-null    float64\n",
            "dtypes: float64(1), int64(6), object(4)\n",
            "memory usage: 31.5+ KB\n"
          ]
        }
      ]
    },
    {
      "cell_type": "markdown",
      "source": [
        "## Data Non-Numerik"
      ],
      "metadata": {
        "id": "GEYmQDdcMouZ"
      }
    },
    {
      "cell_type": "markdown",
      "source": [
        "### Melihat nilai pada fitur non-numerik"
      ],
      "metadata": {
        "id": "ACPPl7NNr41D"
      }
    },
    {
      "cell_type": "code",
      "source": [
        "dataframe['categori'].unique()"
      ],
      "metadata": {
        "colab": {
          "base_uri": "https://localhost:8080/"
        },
        "id": "nyNBRCk6r_uS",
        "outputId": "086da815-d74b-4b96-fb8a-614859a92949"
      },
      "execution_count": null,
      "outputs": [
        {
          "output_type": "execute_result",
          "data": {
            "text/plain": [
              "array(['SEDANG', 'TIDAK SEHAT', 'BAIK'], dtype=object)"
            ]
          },
          "metadata": {},
          "execution_count": 215
        }
      ]
    },
    {
      "cell_type": "code",
      "source": [
        "dataframe['location'].unique()"
      ],
      "metadata": {
        "colab": {
          "base_uri": "https://localhost:8080/"
        },
        "id": "OaYretg6sMiO",
        "outputId": "decff4e8-6a0e-42c2-c9a9-002f66565af1"
      },
      "execution_count": null,
      "outputs": [
        {
          "output_type": "execute_result",
          "data": {
            "text/plain": [
              "array(['DKI2', 'DKI3', 'DKI5', 'DKI4', 'DKI1'], dtype=object)"
            ]
          },
          "metadata": {},
          "execution_count": 216
        }
      ]
    },
    {
      "cell_type": "code",
      "source": [
        "dataframe['critical'].unique()"
      ],
      "metadata": {
        "colab": {
          "base_uri": "https://localhost:8080/"
        },
        "id": "q7jjPJzJMKdI",
        "outputId": "6f0712e5-045c-4f4a-d6fd-79b27b6c2841"
      },
      "execution_count": null,
      "outputs": [
        {
          "output_type": "execute_result",
          "data": {
            "text/plain": [
              "array(['O3', 'PM25', 'PM10', 'PM26', 'SO2'], dtype=object)"
            ]
          },
          "metadata": {},
          "execution_count": 217
        }
      ]
    },
    {
      "cell_type": "markdown",
      "source": [
        "### Pie Chart Sebaran Data Pada Variable Depende(categori)"
      ],
      "metadata": {
        "id": "pXmm3XTjtUYa"
      }
    },
    {
      "cell_type": "code",
      "source": [
        "data_for_pie = dataframe['categori'].value_counts()\n",
        "\n",
        "plt.title('Perbandingan banyak data antara tiap categori')\n",
        "plt.pie(\n",
        "    data_for_pie,\n",
        "    labels = dataframe['categori'].unique(),\n",
        "    autopct='%1.1f%%',\n",
        ")\n",
        "plt.show()"
      ],
      "metadata": {
        "colab": {
          "base_uri": "https://localhost:8080/",
          "height": 496
        },
        "id": "UBrNCev1tZjH",
        "outputId": "f3915889-2297-4b1a-9cac-47ee1d0026e3"
      },
      "execution_count": null,
      "outputs": [
        {
          "output_type": "display_data",
          "data": {
            "text/plain": [
              "<Figure size 1058.4x595.44 with 1 Axes>"
            ],
            "image/png": "[encoded data removed]"
          },
          "metadata": {}
        }
      ]
    },
    {
      "cell_type": "markdown",
      "source": [
        "## Data Numerik"
      ],
      "metadata": {
        "id": "95-BKf2zNnZE"
      }
    },
    {
      "cell_type": "markdown",
      "source": [
        "### Deskripsi Data\n",
        "Melihat deskripsi statistik pada data dengan fungsi **describe()**."
      ],
      "metadata": {
        "id": "Q5NQnkY4jSBW"
      }
    },
    {
      "cell_type": "code",
      "execution_count": null,
      "metadata": {
        "id": "vfeGOzwpDOXQ",
        "colab": {
          "base_uri": "https://localhost:8080/",
          "height": 364
        },
        "outputId": "8db32cac-8321-4ed9-fc6e-1c9743ddcc93"
      },
      "outputs": [
        {
          "output_type": "execute_result",
          "data": {
            "text/plain": [
              "             pm10         so2          co          o3         no2         max  \\\n",
              "count  365.000000  365.000000  365.000000  365.000000  365.000000  365.000000   \n",
              "mean    60.506849   52.753425   15.391781   49.805479   34.115068   94.030137   \n",
              "std     15.155896   11.193823    5.857975   12.234790   15.974152   24.408647   \n",
              "min     19.000000   37.000000    7.000000   20.000000    9.000000   45.000000   \n",
              "25%     53.000000   45.000000   11.000000   41.000000   24.000000   77.000000   \n",
              "50%     62.000000   52.000000   14.000000   49.000000   31.000000   93.000000   \n",
              "75%     68.000000   55.000000   18.000000   57.000000   39.000000  108.000000   \n",
              "max    179.000000  126.000000   47.000000  151.000000  134.000000  179.000000   \n",
              "\n",
              "             pm25  \n",
              "count  334.000000  \n",
              "mean    94.694611  \n",
              "std     24.153839  \n",
              "min     33.000000  \n",
              "25%     78.250000  \n",
              "50%     94.500000  \n",
              "75%    108.750000  \n",
              "max    174.000000  "
            ],
            "text/html": [
              "\n",
              "  <div id=\"df-1bc314a1-f6a3-4ad8-8ab5-c388d601c42f\">\n",
              "    <div class=\"colab-df-container\">\n",
              "      <div>\n",
              "<style scoped>\n",
              "    .dataframe tbody tr th:only-of-type {\n",
              "        vertical-align: middle;\n",
              "    }\n",
              "\n",
              "    .dataframe tbody tr th {\n",
              "        vertical-align: top;\n",
              "    }\n",
              "\n",
              "    .dataframe thead th {\n",
              "        text-align: right;\n",
              "    }\n",
              "</style>\n",
              "<table border=\"1\" class=\"dataframe\">\n",
              "  <thead>\n",
              "    <tr style=\"text-align: right;\">\n",
              "      <th></th>\n",
              "      <th>pm10</th>\n",
              "      <th>so2</th>\n",
              "      <th>co</th>\n",
              "      <th>o3</th>\n",
              "      <th>no2</th>\n",
              "      <th>max</th>\n",
              "      <th>pm25</th>\n",
              "    </tr>\n",
              "  </thead>\n",
              "  <tbody>\n",
              "    <tr>\n",
              "      <th>count</th>\n",
              "      <td>365.000000</td>\n",
              "      <td>365.000000</td>\n",
              "      <td>365.000000</td>\n",
              "      <td>365.000000</td>\n",
              "      <td>365.000000</td>\n",
              "      <td>365.000000</td>\n",
              "      <td>334.000000</td>\n",
              "    </tr>\n",
              "    <tr>\n",
              "      <th>mean</th>\n",
              "      <td>60.506849</td>\n",
              "      <td>52.753425</td>\n",
              "      <td>15.391781</td>\n",
              "      <td>49.805479</td>\n",
              "      <td>34.115068</td>\n",
              "      <td>94.030137</td>\n",
              "      <td>94.694611</td>\n",
              "    </tr>\n",
              "    <tr>\n",
              "      <th>std</th>\n",
              "      <td>15.155896</td>\n",
              "      <td>11.193823</td>\n",
              "      <td>5.857975</td>\n",
              "      <td>12.234790</td>\n",
              "      <td>15.974152</td>\n",
              "      <td>24.408647</td>\n",
              "      <td>24.153839</td>\n",
              "    </tr>\n",
              "    <tr>\n",
              "      <th>min</th>\n",
              "      <td>19.000000</td>\n",
              "      <td>37.000000</td>\n",
              "      <td>7.000000</td>\n",
              "      <td>20.000000</td>\n",
              "      <td>9.000000</td>\n",
              "      <td>45.000000</td>\n",
              "      <td>33.000000</td>\n",
              "    </tr>\n",
              "    <tr>\n",
              "      <th>25%</th>\n",
              "      <td>53.000000</td>\n",
              "      <td>45.000000</td>\n",
              "      <td>11.000000</td>\n",
              "      <td>41.000000</td>\n",
              "      <td>24.000000</td>\n",
              "      <td>77.000000</td>\n",
              "      <td>78.250000</td>\n",
              "    </tr>\n",
              "    <tr>\n",
              "      <th>50%</th>\n",
              "      <td>62.000000</td>\n",
              "      <td>52.000000</td>\n",
              "      <td>14.000000</td>\n",
              "      <td>49.000000</td>\n",
              "      <td>31.000000</td>\n",
              "      <td>93.000000</td>\n",
              "      <td>94.500000</td>\n",
              "    </tr>\n",
              "    <tr>\n",
              "      <th>75%</th>\n",
              "      <td>68.000000</td>\n",
              "      <td>55.000000</td>\n",
              "      <td>18.000000</td>\n",
              "      <td>57.000000</td>\n",
              "      <td>39.000000</td>\n",
              "      <td>108.000000</td>\n",
              "      <td>108.750000</td>\n",
              "    </tr>\n",
              "    <tr>\n",
              "      <th>max</th>\n",
              "      <td>179.000000</td>\n",
              "      <td>126.000000</td>\n",
              "      <td>47.000000</td>\n",
              "      <td>151.000000</td>\n",
              "      <td>134.000000</td>\n",
              "      <td>179.000000</td>\n",
              "      <td>174.000000</td>\n",
              "    </tr>\n",
              "  </tbody>\n",
              "</table>\n",
              "</div>\n",
              "      <button class=\"colab-df-convert\" onclick=\"convertToInteractive('df-1bc314a1-f6a3-4ad8-8ab5-c388d601c42f')\"\n",
              "              title=\"Convert this dataframe to an interactive table.\"\n",
              "              style=\"display:none;\">\n",
              "        \n",
              "  <svg xmlns=\"http://www.w3.org/2000/svg\" height=\"24px\"viewBox=\"0 0 24 24\"\n",
              "       width=\"24px\">\n",
              "    <path d=\"M0 0h24v24H0V0z\" fill=\"none\"/>\n",
              "    <path d=\"M18.56 5.44l.94 2.06.94-2.06 2.06-.94-2.06-.94-.94-2.06-.94 2.06-2.06.94zm-11 1L8.5 8.5l.94-2.06 2.06-.94-2.06-.94L8.5 2.5l-.94 2.06-2.06.94zm10 10l.94 2.06.94-2.06 2.06-.94-2.06-.94-.94-2.06-.94 2.06-2.06.94z\"/><path d=\"M17.41 7.96l-1.37-1.37c-.4-.4-.92-.59-1.43-.59-.52 0-1.04.2-1.43.59L10.3 9.45l-7.72 7.72c-.78.78-.78 2.05 0 2.83L4 21.41c.39.39.9.59 1.41.59.51 0 1.02-.2 1.41-.59l7.78-7.78 2.81-2.81c.8-.78.8-2.07 0-2.86zM5.41 20L4 18.59l7.72-7.72 1.47 1.35L5.41 20z\"/>\n",
              "  </svg>\n",
              "      </button>\n",
              "      \n",
              "  <style>\n",
              "    .colab-df-container {\n",
              "      display:flex;\n",
              "      flex-wrap:wrap;\n",
              "      gap: 12px;\n",
              "    }\n",
              "\n",
              "    .colab-df-convert {\n",
              "      background-color: #E8F0FE;\n",
              "      border: none;\n",
              "      border-radius: 50%;\n",
              "      cursor: pointer;\n",
              "      display: none;\n",
              "      fill: #1967D2;\n",
              "      height: 32px;\n",
              "      padding: 0 0 0 0;\n",
              "      width: 32px;\n",
              "    }\n",
              "\n",
              "    .colab-df-convert:hover {\n",
              "      background-color: #E2EBFA;\n",
              "      box-shadow: 0px 1px 2px rgba(60, 64, 67, 0.3), 0px 1px 3px 1px rgba(60, 64, 67, 0.15);\n",
              "      fill: #174EA6;\n",
              "    }\n",
              "\n",
              "    [theme=dark] .colab-df-convert {\n",
              "      background-color: #3B4455;\n",
              "      fill: #D2E3FC;\n",
              "    }\n",
              "\n",
              "    [theme=dark] .colab-df-convert:hover {\n",
              "      background-color: #434B5C;\n",
              "      box-shadow: 0px 1px 3px 1px rgba(0, 0, 0, 0.15);\n",
              "      filter: drop-shadow(0px 1px 2px rgba(0, 0, 0, 0.3));\n",
              "      fill: #FFFFFF;\n",
              "    }\n",
              "  </style>\n",
              "\n",
              "      <script>\n",
              "        const buttonEl =\n",
              "          document.querySelector('#df-1bc314a1-f6a3-4ad8-8ab5-c388d601c42f button.colab-df-convert');\n",
              "        buttonEl.style.display =\n",
              "          google.colab.kernel.accessAllowed ? 'block' : 'none';\n",
              "\n",
              "        async function convertToInteractive(key) {\n",
              "          const element = document.querySelector('#df-1bc314a1-f6a3-4ad8-8ab5-c388d601c42f');\n",
              "          const dataTable =\n",
              "            await google.colab.kernel.invokeFunction('convertToInteractive',\n",
              "                                                     [key], {});\n",
              "          if (!dataTable) return;\n",
              "\n",
              "          const docLinkHtml = 'Like what you see? Visit the ' +\n",
              "            '<a target=\"_blank\" href=https://colab.research.google.com/notebooks/data_table.ipynb>data table notebook</a>'\n",
              "            + ' to learn more about interactive tables.';\n",
              "          element.innerHTML = '';\n",
              "          dataTable['output_type'] = 'display_data';\n",
              "          await google.colab.output.renderOutput(dataTable, element);\n",
              "          const docLink = document.createElement('div');\n",
              "          docLink.innerHTML = docLinkHtml;\n",
              "          element.appendChild(docLink);\n",
              "        }\n",
              "      </script>\n",
              "    </div>\n",
              "  </div>\n",
              "  "
            ]
          },
          "metadata": {},
          "execution_count": 147
        }
      ],
      "source": [
        "dataframe.describe()"
      ]
    },
    {
      "cell_type": "code",
      "source": [
        ""
      ],
      "metadata": {
        "id": "OfXnLtjZTCNN"
      },
      "execution_count": null,
      "outputs": []
    },
    {
      "cell_type": "markdown",
      "source": [
        "## Kendall Rank : Korelasi antara fitur numerik dengan label non-numerik"
      ],
      "metadata": {
        "id": "fDT-8NmCO59e"
      }
    },
    {
      "cell_type": "code",
      "source": [
        "from pylab import rcParams\n",
        "import seaborn as sb\n",
        "from scipy.stats.stats import kendalltau"
      ],
      "metadata": {
        "id": "NOX4VyMUO93u"
      },
      "execution_count": null,
      "outputs": []
    },
    {
      "cell_type": "code",
      "source": [
        "data = new_df.copy()"
      ],
      "metadata": {
        "id": "dI9HWQl2PSiW"
      },
      "execution_count": null,
      "outputs": []
    },
    {
      "cell_type": "code",
      "source": [
        "data['categori'].unique()"
      ],
      "metadata": {
        "colab": {
          "base_uri": "https://localhost:8080/"
        },
        "id": "hxuI14HgPXsI",
        "outputId": "b7298db8-6c59-4d69-a523-d75694c3ff48"
      },
      "execution_count": null,
      "outputs": [
        {
          "output_type": "execute_result",
          "data": {
            "text/plain": [
              "array(['SEDANG', 'TIDAK SEHAT', 'BAIK'], dtype=object)"
            ]
          },
          "metadata": {},
          "execution_count": 72
        }
      ]
    },
    {
      "cell_type": "code",
      "source": [
        "data['categori'] = data['categori'].map({'BAIK': 2, 'SEDANG': 1,'TIDAK SEHAT':0})"
      ],
      "metadata": {
        "id": "GOZ1J6rpPBCr"
      },
      "execution_count": null,
      "outputs": []
    },
    {
      "cell_type": "code",
      "source": [
        "corr = data.corr(method='kendall')"
      ],
      "metadata": {
        "id": "G3KC9Z0cPxeL"
      },
      "execution_count": null,
      "outputs": []
    },
    {
      "cell_type": "code",
      "source": [
        "rcParams['figure.figsize'] = 14.7,8.27\n",
        "sb.heatmap(corr, \n",
        "           xticklabels=corr.columns.values, \n",
        "           yticklabels=corr.columns.values, \n",
        "           cmap=\"YlGnBu\",\n",
        "          annot=True)"
      ],
      "metadata": {
        "colab": {
          "base_uri": "https://localhost:8080/",
          "height": 434
        },
        "id": "wfYj3BRKP5ky",
        "outputId": "1cbfb805-ce2e-462b-94c0-82ff2644ff63"
      },
      "execution_count": null,
      "outputs": [
        {
          "output_type": "execute_result",
          "data": {
            "text/plain": [
              "<matplotlib.axes._subplots.AxesSubplot at 0x7f23904b85d0>"
            ]
          },
          "metadata": {},
          "execution_count": 75
        },
        {
          "output_type": "display_data",
          "data": {
            "text/plain": [
              "<Figure size 1058.4x595.44 with 2 Axes>"
            ],
            "image/png": "[encoded data removed]"
          },
          "metadata": {
            "needs_background": "light"
          }
        }
      ]
    },
    {
      "cell_type": "markdown",
      "source": [
        "# Data Preparation"
      ],
      "metadata": {
        "id": "cA5FfAVrE9c4"
      }
    },
    {
      "cell_type": "code",
      "source": [
        "new_df = dataframe.copy()"
      ],
      "metadata": {
        "id": "IlgU6BctpXCf"
      },
      "execution_count": null,
      "outputs": []
    },
    {
      "cell_type": "code",
      "source": [
        "new_df = new_df.drop(['tanggal','location'], axis=1)"
      ],
      "metadata": {
        "id": "n5PUZrwWC2UG"
      },
      "execution_count": null,
      "outputs": []
    },
    {
      "cell_type": "code",
      "source": [
        "new_df.info()"
      ],
      "metadata": {
        "colab": {
          "base_uri": "https://localhost:8080/"
        },
        "id": "vV4CYi3ZtkMw",
        "outputId": "c3812282-1cee-432a-d8c9-a8673d3c3bfe"
      },
      "execution_count": null,
      "outputs": [
        {
          "output_type": "stream",
          "name": "stdout",
          "text": [
            "<class 'pandas.core.frame.DataFrame'>\n",
            "RangeIndex: 365 entries, 0 to 364\n",
            "Data columns (total 9 columns):\n",
            " #   Column    Non-Null Count  Dtype  \n",
            "---  ------    --------------  -----  \n",
            " 0   pm10      365 non-null    int64  \n",
            " 1   so2       365 non-null    int64  \n",
            " 2   co        365 non-null    int64  \n",
            " 3   o3        365 non-null    int64  \n",
            " 4   no2       365 non-null    int64  \n",
            " 5   max       365 non-null    int64  \n",
            " 6   critical  365 non-null    object \n",
            " 7   categori  365 non-null    object \n",
            " 8   pm25      334 non-null    float64\n",
            "dtypes: float64(1), int64(6), object(2)\n",
            "memory usage: 25.8+ KB\n"
          ]
        }
      ]
    },
    {
      "cell_type": "markdown",
      "source": [
        "## Data Clearing"
      ],
      "metadata": {
        "id": "AqV63NQBXZlT"
      }
    },
    {
      "cell_type": "markdown",
      "source": [
        "### Mengatasi Missing Value\n",
        "Menghitung jumlah baris yang nilai pada kolom bernilai null atau nan. Perhitungan dilakukan dengan menjumlahkan baris yang bernilai null atau nan pada kolom tersebut dengan fungsi **sum()**."
      ],
      "metadata": {
        "id": "bRRXRW4AnxXe"
      }
    },
    {
      "cell_type": "code",
      "source": [
        "new_df.isnull().sum()"
      ],
      "metadata": {
        "colab": {
          "base_uri": "https://localhost:8080/"
        },
        "id": "c0Q9FmWhtDG3",
        "outputId": "e1cdf7e4-2856-427b-d303-a337c9b42820"
      },
      "execution_count": null,
      "outputs": [
        {
          "output_type": "execute_result",
          "data": {
            "text/plain": [
              "pm10         0\n",
              "so2          0\n",
              "co           0\n",
              "o3           0\n",
              "no2          0\n",
              "max          0\n",
              "critical     0\n",
              "categori     0\n",
              "pm25        31\n",
              "dtype: int64"
            ]
          },
          "metadata": {},
          "execution_count": 76
        }
      ]
    },
    {
      "cell_type": "markdown",
      "source": [
        "### Imputasi mean"
      ],
      "metadata": {
        "id": "pLhgRLKEy6O2"
      }
    },
    {
      "cell_type": "code",
      "source": [
        "data_pm25 = pd.DataFrame(new_df['pm25'])\n",
        "data_pm25 = data_pm25.fillna(data_pm25.mean())\n",
        "\n",
        "new_df = new_df.drop(['pm25'],axis=1)\n",
        "\n",
        "new_df[\"pm25\"] = data_pm25"
      ],
      "metadata": {
        "id": "n9mGBEcOvdKD"
      },
      "execution_count": null,
      "outputs": []
    },
    {
      "cell_type": "code",
      "source": [
        "new_df.isnull().sum()"
      ],
      "metadata": {
        "colab": {
          "base_uri": "https://localhost:8080/"
        },
        "id": "hJouRfQhvyVk",
        "outputId": "99adc696-b9a7-4c9f-ec9f-584728842b05"
      },
      "execution_count": null,
      "outputs": [
        {
          "output_type": "execute_result",
          "data": {
            "text/plain": [
              "pm10        0\n",
              "so2         0\n",
              "co          0\n",
              "o3          0\n",
              "no2         0\n",
              "max         0\n",
              "critical    0\n",
              "categori    0\n",
              "pm25        0\n",
              "dtype: int64"
            ]
          },
          "metadata": {},
          "execution_count": 79
        }
      ]
    },
    {
      "cell_type": "markdown",
      "source": [
        "## Handling Outlier"
      ],
      "metadata": {
        "id": "W7U05R_0zGRL"
      }
    },
    {
      "cell_type": "markdown",
      "source": [
        "### Visualisasi Outliner"
      ],
      "metadata": {
        "id": "2fsT_FwnvNMY"
      }
    },
    {
      "cell_type": "markdown",
      "source": [
        "Menggunakan fungsi **boxplot()**, dilakukan visualisasi dengan diagram box plot untuk melihat setiap pencilan pada kolom(fitur) datasets."
      ],
      "metadata": {
        "id": "peWAd9ehquR6"
      }
    },
    {
      "cell_type": "code",
      "source": [
        "columns = new_df.columns\n",
        "numerical_features = columns.drop(['categori','critical']) "
      ],
      "metadata": {
        "id": "mFnGXTItzxzL"
      },
      "execution_count": null,
      "outputs": []
    },
    {
      "cell_type": "code",
      "source": [
        "RP=plt.figure(figsize=(14,10))\n",
        "for i, feature in enumerate(numerical_features):\n",
        "  r=RP.add_subplot(3,3,i+1)\n",
        "  sns.boxplot(x=new_df[feature])\n",
        "RP.tight_layout()"
      ],
      "metadata": {
        "colab": {
          "base_uri": "https://localhost:8080/",
          "height": 465
        },
        "id": "cAbEUIUezlEV",
        "outputId": "1db25c0e-37a1-47df-ba40-ebcf39e6ad17"
      },
      "execution_count": null,
      "outputs": [
        {
          "output_type": "display_data",
          "data": {
            "text/plain": [
              "<Figure size 1008x720 with 7 Axes>"
            ],
            "image/png": "[encoded data removed]"
          },
          "metadata": {
            "needs_background": "light"
          }
        }
      ]
    },
    {
      "cell_type": "markdown",
      "source": [
        "### Metode winsorize\n",
        "Dari hasil visualisasi dengan box plot terlihat bahwa pada setiap kolom terdapat pencilan."
      ],
      "metadata": {
        "id": "FD190w6CgeEq"
      }
    },
    {
      "cell_type": "code",
      "source": [
        "from scipy.stats.mstats import winsorize\n",
        "data = new_df"
      ],
      "metadata": {
        "id": "l2ZCAIjOedPe"
      },
      "execution_count": null,
      "outputs": []
    },
    {
      "cell_type": "code",
      "source": [
        "for feature in numerical_features:\n",
        "  wins = winsorize(data[feature],limits=[0.1,0.2])\n",
        "  data[feature] = wins"
      ],
      "metadata": {
        "id": "LrcT1NY9hAsK"
      },
      "execution_count": null,
      "outputs": []
    },
    {
      "cell_type": "code",
      "source": [
        "RP=plt.figure(figsize=(14,10))\n",
        "for i, feature in enumerate(numerical_features):\n",
        "  r=RP.add_subplot(3,3,i+1)\n",
        "  sns.boxplot(x=data[feature])\n",
        "RP.tight_layout()"
      ],
      "metadata": {
        "colab": {
          "base_uri": "https://localhost:8080/",
          "height": 729
        },
        "id": "8aujLcPHfq3c",
        "outputId": "9aec9767-c43c-487d-f429-574c39c471b4"
      },
      "execution_count": null,
      "outputs": [
        {
          "output_type": "display_data",
          "data": {
            "text/plain": [
              "<Figure size 1008x720 with 7 Axes>"
            ],
            "image/png": "[encoded data removed]"
          },
          "metadata": {
            "needs_background": "light"
          }
        }
      ]
    },
    {
      "cell_type": "code",
      "source": [
        "new_df = data"
      ],
      "metadata": {
        "id": "hPfWQwRG3yci"
      },
      "execution_count": null,
      "outputs": []
    },
    {
      "cell_type": "markdown",
      "source": [
        "## One Hot Encoding"
      ],
      "metadata": {
        "id": "VfKofT0V3XZm"
      }
    },
    {
      "cell_type": "code",
      "source": [
        "new_df['critical'].unique()"
      ],
      "metadata": {
        "colab": {
          "base_uri": "https://localhost:8080/"
        },
        "id": "vPnPzwOL9zlG",
        "outputId": "2796be68-a26c-479c-d833-646a6927a97f"
      },
      "execution_count": null,
      "outputs": [
        {
          "output_type": "execute_result",
          "data": {
            "text/plain": [
              "array(['O3', 'PM25', 'PM10', 'PM26', 'SO2'], dtype=object)"
            ]
          },
          "metadata": {},
          "execution_count": 87
        }
      ]
    },
    {
      "cell_type": "code",
      "source": [
        "new_df = pd.concat([new_df, pd.get_dummies(new_df['critical'], prefix='critical')],axis=1)\n",
        "new_df.drop(['critical'], axis=1, inplace=True)\n",
        "new_df.head()"
      ],
      "metadata": {
        "colab": {
          "base_uri": "https://localhost:8080/",
          "height": 206
        },
        "id": "iJmiV6dd78ZE",
        "outputId": "91080830-2d2f-4b34-d167-6ced9b94662d"
      },
      "execution_count": null,
      "outputs": [
        {
          "output_type": "execute_result",
          "data": {
            "text/plain": [
              "   pm10  so2  co  o3  no2  max categori       pm25  critical_O3  \\\n",
              "0    43   57  19  36   41   65   SEDANG  94.694611            1   \n",
              "1    58   57  19  59   41   86   SEDANG  94.694611            0   \n",
              "2    64   57  19  59   41   93   SEDANG  94.694611            0   \n",
              "3    50   57  19  36   41   77   SEDANG  94.694611            1   \n",
              "4    59   57  19  36   41   89   SEDANG  94.694611            0   \n",
              "\n",
              "   critical_PM10  critical_PM25  critical_PM26  critical_SO2  \n",
              "0              0              0              0             0  \n",
              "1              0              1              0             0  \n",
              "2              0              1              0             0  \n",
              "3              0              0              0             0  \n",
              "4              0              1              0             0  "
            ],
            "text/html": [
              "\n",
              "  <div id=\"df-51bb55d8-8b99-4ec9-bb97-c5f3094525b2\">\n",
              "    <div class=\"colab-df-container\">\n",
              "      <div>\n",
              "<style scoped>\n",
              "    .dataframe tbody tr th:only-of-type {\n",
              "        vertical-align: middle;\n",
              "    }\n",
              "\n",
              "    .dataframe tbody tr th {\n",
              "        vertical-align: top;\n",
              "    }\n",
              "\n",
              "    .dataframe thead th {\n",
              "        text-align: right;\n",
              "    }\n",
              "</style>\n",
              "<table border=\"1\" class=\"dataframe\">\n",
              "  <thead>\n",
              "    <tr style=\"text-align: right;\">\n",
              "      <th></th>\n",
              "      <th>pm10</th>\n",
              "      <th>so2</th>\n",
              "      <th>co</th>\n",
              "      <th>o3</th>\n",
              "      <th>no2</th>\n",
              "      <th>max</th>\n",
              "      <th>categori</th>\n",
              "      <th>pm25</th>\n",
              "      <th>critical_O3</th>\n",
              "      <th>critical_PM10</th>\n",
              "      <th>critical_PM25</th>\n",
              "      <th>critical_PM26</th>\n",
              "      <th>critical_SO2</th>\n",
              "    </tr>\n",
              "  </thead>\n",
              "  <tbody>\n",
              "    <tr>\n",
              "      <th>0</th>\n",
              "      <td>43</td>\n",
              "      <td>57</td>\n",
              "      <td>19</td>\n",
              "      <td>36</td>\n",
              "      <td>41</td>\n",
              "      <td>65</td>\n",
              "      <td>SEDANG</td>\n",
              "      <td>94.694611</td>\n",
              "      <td>1</td>\n",
              "      <td>0</td>\n",
              "      <td>0</td>\n",
              "      <td>0</td>\n",
              "      <td>0</td>\n",
              "    </tr>\n",
              "    <tr>\n",
              "      <th>1</th>\n",
              "      <td>58</td>\n",
              "      <td>57</td>\n",
              "      <td>19</td>\n",
              "      <td>59</td>\n",
              "      <td>41</td>\n",
              "      <td>86</td>\n",
              "      <td>SEDANG</td>\n",
              "      <td>94.694611</td>\n",
              "      <td>0</td>\n",
              "      <td>0</td>\n",
              "      <td>1</td>\n",
              "      <td>0</td>\n",
              "      <td>0</td>\n",
              "    </tr>\n",
              "    <tr>\n",
              "      <th>2</th>\n",
              "      <td>64</td>\n",
              "      <td>57</td>\n",
              "      <td>19</td>\n",
              "      <td>59</td>\n",
              "      <td>41</td>\n",
              "      <td>93</td>\n",
              "      <td>SEDANG</td>\n",
              "      <td>94.694611</td>\n",
              "      <td>0</td>\n",
              "      <td>0</td>\n",
              "      <td>1</td>\n",
              "      <td>0</td>\n",
              "      <td>0</td>\n",
              "    </tr>\n",
              "    <tr>\n",
              "      <th>3</th>\n",
              "      <td>50</td>\n",
              "      <td>57</td>\n",
              "      <td>19</td>\n",
              "      <td>36</td>\n",
              "      <td>41</td>\n",
              "      <td>77</td>\n",
              "      <td>SEDANG</td>\n",
              "      <td>94.694611</td>\n",
              "      <td>1</td>\n",
              "      <td>0</td>\n",
              "      <td>0</td>\n",
              "      <td>0</td>\n",
              "      <td>0</td>\n",
              "    </tr>\n",
              "    <tr>\n",
              "      <th>4</th>\n",
              "      <td>59</td>\n",
              "      <td>57</td>\n",
              "      <td>19</td>\n",
              "      <td>36</td>\n",
              "      <td>41</td>\n",
              "      <td>89</td>\n",
              "      <td>SEDANG</td>\n",
              "      <td>94.694611</td>\n",
              "      <td>0</td>\n",
              "      <td>0</td>\n",
              "      <td>1</td>\n",
              "      <td>0</td>\n",
              "      <td>0</td>\n",
              "    </tr>\n",
              "  </tbody>\n",
              "</table>\n",
              "</div>\n",
              "      <button class=\"colab-df-convert\" onclick=\"convertToInteractive('df-51bb55d8-8b99-4ec9-bb97-c5f3094525b2')\"\n",
              "              title=\"Convert this dataframe to an interactive table.\"\n",
              "              style=\"display:none;\">\n",
              "        \n",
              "  <svg xmlns=\"http://www.w3.org/2000/svg\" height=\"24px\"viewBox=\"0 0 24 24\"\n",
              "       width=\"24px\">\n",
              "    <path d=\"M0 0h24v24H0V0z\" fill=\"none\"/>\n",
              "    <path d=\"M18.56 5.44l.94 2.06.94-2.06 2.06-.94-2.06-.94-.94-2.06-.94 2.06-2.06.94zm-11 1L8.5 8.5l.94-2.06 2.06-.94-2.06-.94L8.5 2.5l-.94 2.06-2.06.94zm10 10l.94 2.06.94-2.06 2.06-.94-2.06-.94-.94-2.06-.94 2.06-2.06.94z\"/><path d=\"M17.41 7.96l-1.37-1.37c-.4-.4-.92-.59-1.43-.59-.52 0-1.04.2-1.43.59L10.3 9.45l-7.72 7.72c-.78.78-.78 2.05 0 2.83L4 21.41c.39.39.9.59 1.41.59.51 0 1.02-.2 1.41-.59l7.78-7.78 2.81-2.81c.8-.78.8-2.07 0-2.86zM5.41 20L4 18.59l7.72-7.72 1.47 1.35L5.41 20z\"/>\n",
              "  </svg>\n",
              "      </button>\n",
              "      \n",
              "  <style>\n",
              "    .colab-df-container {\n",
              "      display:flex;\n",
              "      flex-wrap:wrap;\n",
              "      gap: 12px;\n",
              "    }\n",
              "\n",
              "    .colab-df-convert {\n",
              "      background-color: #E8F0FE;\n",
              "      border: none;\n",
              "      border-radius: 50%;\n",
              "      cursor: pointer;\n",
              "      display: none;\n",
              "      fill: #1967D2;\n",
              "      height: 32px;\n",
              "      padding: 0 0 0 0;\n",
              "      width: 32px;\n",
              "    }\n",
              "\n",
              "    .colab-df-convert:hover {\n",
              "      background-color: #E2EBFA;\n",
              "      box-shadow: 0px 1px 2px rgba(60, 64, 67, 0.3), 0px 1px 3px 1px rgba(60, 64, 67, 0.15);\n",
              "      fill: #174EA6;\n",
              "    }\n",
              "\n",
              "    [theme=dark] .colab-df-convert {\n",
              "      background-color: #3B4455;\n",
              "      fill: #D2E3FC;\n",
              "    }\n",
              "\n",
              "    [theme=dark] .colab-df-convert:hover {\n",
              "      background-color: #434B5C;\n",
              "      box-shadow: 0px 1px 3px 1px rgba(0, 0, 0, 0.15);\n",
              "      filter: drop-shadow(0px 1px 2px rgba(0, 0, 0, 0.3));\n",
              "      fill: #FFFFFF;\n",
              "    }\n",
              "  </style>\n",
              "\n",
              "      <script>\n",
              "        const buttonEl =\n",
              "          document.querySelector('#df-51bb55d8-8b99-4ec9-bb97-c5f3094525b2 button.colab-df-convert');\n",
              "        buttonEl.style.display =\n",
              "          google.colab.kernel.accessAllowed ? 'block' : 'none';\n",
              "\n",
              "        async function convertToInteractive(key) {\n",
              "          const element = document.querySelector('#df-51bb55d8-8b99-4ec9-bb97-c5f3094525b2');\n",
              "          const dataTable =\n",
              "            await google.colab.kernel.invokeFunction('convertToInteractive',\n",
              "                                                     [key], {});\n",
              "          if (!dataTable) return;\n",
              "\n",
              "          const docLinkHtml = 'Like what you see? Visit the ' +\n",
              "            '<a target=\"_blank\" href=https://colab.research.google.com/notebooks/data_table.ipynb>data table notebook</a>'\n",
              "            + ' to learn more about interactive tables.';\n",
              "          element.innerHTML = '';\n",
              "          dataTable['output_type'] = 'display_data';\n",
              "          await google.colab.output.renderOutput(dataTable, element);\n",
              "          const docLink = document.createElement('div');\n",
              "          docLink.innerHTML = docLinkHtml;\n",
              "          element.appendChild(docLink);\n",
              "        }\n",
              "      </script>\n",
              "    </div>\n",
              "  </div>\n",
              "  "
            ]
          },
          "metadata": {},
          "execution_count": 88
        }
      ]
    },
    {
      "cell_type": "markdown",
      "source": [
        "## Standarisasi \n",
        "Melakukan standarisasi dengan **StandardScaler**.  proses standarisasi mengubah nilai rata-rata (mean) menjadi 0 dan nilai standar deviasi menjadi 1"
      ],
      "metadata": {
        "id": "sj7P9TPr4lEs"
      }
    },
    {
      "cell_type": "code",
      "source": [
        "from sklearn.preprocessing import StandardScaler\n",
        "\n",
        "features = new_df.columns.drop(['categori'])\n",
        "\n",
        "scaler = StandardScaler()\n",
        "scaler.fit(new_df[features])\n",
        "new_df[features] = scaler.transform(new_df.loc[:, features])\n",
        "new_df[features].head()"
      ],
      "metadata": {
        "colab": {
          "base_uri": "https://localhost:8080/",
          "height": 270
        },
        "id": "3C-p-WCY44YG",
        "outputId": "8558ae39-eabf-4e48-d03b-fc5e4b98d194"
      },
      "execution_count": null,
      "outputs": [
        {
          "output_type": "execute_result",
          "data": {
            "text/plain": [
              "       pm10       so2        co        o3       no2       max      pm25  \\\n",
              "0 -1.565349  1.174527  1.330628 -1.522736  1.264444 -1.511717  0.166633   \n",
              "1 -0.107570  1.174527  1.330628  1.253240  1.264444 -0.305208  0.166633   \n",
              "2  0.475542  1.174527  1.330628  1.253240  1.264444  0.096961  0.166633   \n",
              "3 -0.885052  1.174527  1.330628 -1.522736  1.264444 -0.822284  0.166633   \n",
              "4 -0.010384  1.174527  1.330628 -1.522736  1.264444 -0.132850  0.166633   \n",
              "\n",
              "   critical_O3  critical_PM10  critical_PM25  critical_PM26  critical_SO2  \n",
              "0     3.687818      -0.074227      -3.403852      -0.052414     -0.052414  \n",
              "1    -0.271163      -0.074227       0.293785      -0.052414     -0.052414  \n",
              "2    -0.271163      -0.074227       0.293785      -0.052414     -0.052414  \n",
              "3     3.687818      -0.074227      -3.403852      -0.052414     -0.052414  \n",
              "4    -0.271163      -0.074227       0.293785      -0.052414     -0.052414  "
            ],
            "text/html": [
              "\n",
              "  <div id=\"df-bd0ef162-6931-4d87-84f6-af951fafd791\">\n",
              "    <div class=\"colab-df-container\">\n",
              "      <div>\n",
              "<style scoped>\n",
              "    .dataframe tbody tr th:only-of-type {\n",
              "        vertical-align: middle;\n",
              "    }\n",
              "\n",
              "    .dataframe tbody tr th {\n",
              "        vertical-align: top;\n",
              "    }\n",
              "\n",
              "    .dataframe thead th {\n",
              "        text-align: right;\n",
              "    }\n",
              "</style>\n",
              "<table border=\"1\" class=\"dataframe\">\n",
              "  <thead>\n",
              "    <tr style=\"text-align: right;\">\n",
              "      <th></th>\n",
              "      <th>pm10</th>\n",
              "      <th>so2</th>\n",
              "      <th>co</th>\n",
              "      <th>o3</th>\n",
              "      <th>no2</th>\n",
              "      <th>max</th>\n",
              "      <th>pm25</th>\n",
              "      <th>critical_O3</th>\n",
              "      <th>critical_PM10</th>\n",
              "      <th>critical_PM25</th>\n",
              "      <th>critical_PM26</th>\n",
              "      <th>critical_SO2</th>\n",
              "    </tr>\n",
              "  </thead>\n",
              "  <tbody>\n",
              "    <tr>\n",
              "      <th>0</th>\n",
              "      <td>-1.565349</td>\n",
              "      <td>1.174527</td>\n",
              "      <td>1.330628</td>\n",
              "      <td>-1.522736</td>\n",
              "      <td>1.264444</td>\n",
              "      <td>-1.511717</td>\n",
              "      <td>0.166633</td>\n",
              "      <td>3.687818</td>\n",
              "      <td>-0.074227</td>\n",
              "      <td>-3.403852</td>\n",
              "      <td>-0.052414</td>\n",
              "      <td>-0.052414</td>\n",
              "    </tr>\n",
              "    <tr>\n",
              "      <th>1</th>\n",
              "      <td>-0.107570</td>\n",
              "      <td>1.174527</td>\n",
              "      <td>1.330628</td>\n",
              "      <td>1.253240</td>\n",
              "      <td>1.264444</td>\n",
              "      <td>-0.305208</td>\n",
              "      <td>0.166633</td>\n",
              "      <td>-0.271163</td>\n",
              "      <td>-0.074227</td>\n",
              "      <td>0.293785</td>\n",
              "      <td>-0.052414</td>\n",
              "      <td>-0.052414</td>\n",
              "    </tr>\n",
              "    <tr>\n",
              "      <th>2</th>\n",
              "      <td>0.475542</td>\n",
              "      <td>1.174527</td>\n",
              "      <td>1.330628</td>\n",
              "      <td>1.253240</td>\n",
              "      <td>1.264444</td>\n",
              "      <td>0.096961</td>\n",
              "      <td>0.166633</td>\n",
              "      <td>-0.271163</td>\n",
              "      <td>-0.074227</td>\n",
              "      <td>0.293785</td>\n",
              "      <td>-0.052414</td>\n",
              "      <td>-0.052414</td>\n",
              "    </tr>\n",
              "    <tr>\n",
              "      <th>3</th>\n",
              "      <td>-0.885052</td>\n",
              "      <td>1.174527</td>\n",
              "      <td>1.330628</td>\n",
              "      <td>-1.522736</td>\n",
              "      <td>1.264444</td>\n",
              "      <td>-0.822284</td>\n",
              "      <td>0.166633</td>\n",
              "      <td>3.687818</td>\n",
              "      <td>-0.074227</td>\n",
              "      <td>-3.403852</td>\n",
              "      <td>-0.052414</td>\n",
              "      <td>-0.052414</td>\n",
              "    </tr>\n",
              "    <tr>\n",
              "      <th>4</th>\n",
              "      <td>-0.010384</td>\n",
              "      <td>1.174527</td>\n",
              "      <td>1.330628</td>\n",
              "      <td>-1.522736</td>\n",
              "      <td>1.264444</td>\n",
              "      <td>-0.132850</td>\n",
              "      <td>0.166633</td>\n",
              "      <td>-0.271163</td>\n",
              "      <td>-0.074227</td>\n",
              "      <td>0.293785</td>\n",
              "      <td>-0.052414</td>\n",
              "      <td>-0.052414</td>\n",
              "    </tr>\n",
              "  </tbody>\n",
              "</table>\n",
              "</div>\n",
              "      <button class=\"colab-df-convert\" onclick=\"convertToInteractive('df-bd0ef162-6931-4d87-84f6-af951fafd791')\"\n",
              "              title=\"Convert this dataframe to an interactive table.\"\n",
              "              style=\"display:none;\">\n",
              "        \n",
              "  <svg xmlns=\"http://www.w3.org/2000/svg\" height=\"24px\"viewBox=\"0 0 24 24\"\n",
              "       width=\"24px\">\n",
              "    <path d=\"M0 0h24v24H0V0z\" fill=\"none\"/>\n",
              "    <path d=\"M18.56 5.44l.94 2.06.94-2.06 2.06-.94-2.06-.94-.94-2.06-.94 2.06-2.06.94zm-11 1L8.5 8.5l.94-2.06 2.06-.94-2.06-.94L8.5 2.5l-.94 2.06-2.06.94zm10 10l.94 2.06.94-2.06 2.06-.94-2.06-.94-.94-2.06-.94 2.06-2.06.94z\"/><path d=\"M17.41 7.96l-1.37-1.37c-.4-.4-.92-.59-1.43-.59-.52 0-1.04.2-1.43.59L10.3 9.45l-7.72 7.72c-.78.78-.78 2.05 0 2.83L4 21.41c.39.39.9.59 1.41.59.51 0 1.02-.2 1.41-.59l7.78-7.78 2.81-2.81c.8-.78.8-2.07 0-2.86zM5.41 20L4 18.59l7.72-7.72 1.47 1.35L5.41 20z\"/>\n",
              "  </svg>\n",
              "      </button>\n",
              "      \n",
              "  <style>\n",
              "    .colab-df-container {\n",
              "      display:flex;\n",
              "      flex-wrap:wrap;\n",
              "      gap: 12px;\n",
              "    }\n",
              "\n",
              "    .colab-df-convert {\n",
              "      background-color: #E8F0FE;\n",
              "      border: none;\n",
              "      border-radius: 50%;\n",
              "      cursor: pointer;\n",
              "      display: none;\n",
              "      fill: #1967D2;\n",
              "      height: 32px;\n",
              "      padding: 0 0 0 0;\n",
              "      width: 32px;\n",
              "    }\n",
              "\n",
              "    .colab-df-convert:hover {\n",
              "      background-color: #E2EBFA;\n",
              "      box-shadow: 0px 1px 2px rgba(60, 64, 67, 0.3), 0px 1px 3px 1px rgba(60, 64, 67, 0.15);\n",
              "      fill: #174EA6;\n",
              "    }\n",
              "\n",
              "    [theme=dark] .colab-df-convert {\n",
              "      background-color: #3B4455;\n",
              "      fill: #D2E3FC;\n",
              "    }\n",
              "\n",
              "    [theme=dark] .colab-df-convert:hover {\n",
              "      background-color: #434B5C;\n",
              "      box-shadow: 0px 1px 3px 1px rgba(0, 0, 0, 0.15);\n",
              "      filter: drop-shadow(0px 1px 2px rgba(0, 0, 0, 0.3));\n",
              "      fill: #FFFFFF;\n",
              "    }\n",
              "  </style>\n",
              "\n",
              "      <script>\n",
              "        const buttonEl =\n",
              "          document.querySelector('#df-bd0ef162-6931-4d87-84f6-af951fafd791 button.colab-df-convert');\n",
              "        buttonEl.style.display =\n",
              "          google.colab.kernel.accessAllowed ? 'block' : 'none';\n",
              "\n",
              "        async function convertToInteractive(key) {\n",
              "          const element = document.querySelector('#df-bd0ef162-6931-4d87-84f6-af951fafd791');\n",
              "          const dataTable =\n",
              "            await google.colab.kernel.invokeFunction('convertToInteractive',\n",
              "                                                     [key], {});\n",
              "          if (!dataTable) return;\n",
              "\n",
              "          const docLinkHtml = 'Like what you see? Visit the ' +\n",
              "            '<a target=\"_blank\" href=https://colab.research.google.com/notebooks/data_table.ipynb>data table notebook</a>'\n",
              "            + ' to learn more about interactive tables.';\n",
              "          element.innerHTML = '';\n",
              "          dataTable['output_type'] = 'display_data';\n",
              "          await google.colab.output.renderOutput(dataTable, element);\n",
              "          const docLink = document.createElement('div');\n",
              "          docLink.innerHTML = docLinkHtml;\n",
              "          element.appendChild(docLink);\n",
              "        }\n",
              "      </script>\n",
              "    </div>\n",
              "  </div>\n",
              "  "
            ]
          },
          "metadata": {},
          "execution_count": 127
        }
      ]
    },
    {
      "cell_type": "markdown",
      "source": [
        "## Train-Test-Split\n",
        "Membagi dataset menjadi data train dan test dengan fungsi **train_test_split**. Ukuran yang digunakan adalah 20% untuk data test dan 80% untuk data uji.\n"
      ],
      "metadata": {
        "id": "t9zvvuvS4MiS"
      }
    },
    {
      "cell_type": "code",
      "source": [
        "from sklearn.model_selection import train_test_split\n",
        " \n",
        "\n",
        "X = new_df.drop([\"categori\"],axis =1)\n",
        "y = new_df[\"categori\"]\n",
        "\n",
        "X_train, X_test, y_train, y_test = train_test_split(X, y, test_size = 0.2, random_state = 123)\n",
        "\n",
        "print(f'Total # of sample in whole dataset: {len(X)}')\n",
        "print(f'Total # of sample in train dataset: {len(X_train)}')\n",
        "print(f'Total # of sample in test dataset: {len(X_test)}')"
      ],
      "metadata": {
        "colab": {
          "base_uri": "https://localhost:8080/"
        },
        "id": "puh_FHiR4PyK",
        "outputId": "41035590-8a07-4c83-e187-4a7c3c5a5c2d"
      },
      "execution_count": null,
      "outputs": [
        {
          "output_type": "stream",
          "name": "stdout",
          "text": [
            "Total # of sample in whole dataset: 365\n",
            "Total # of sample in train dataset: 292\n",
            "Total # of sample in test dataset: 73\n"
          ]
        }
      ]
    },
    {
      "cell_type": "markdown",
      "source": [
        "## Handling Imbalanced Dataset\n",
        "Melakukan resample pada data training untuk mengatasi imbalance dataset"
      ],
      "metadata": {
        "id": "bQKeODQkzBoc"
      }
    },
    {
      "cell_type": "code",
      "source": [
        "data = pd.concat([X_train,y_train], axis=1)"
      ],
      "metadata": {
        "id": "TTxPkhYo5Eh4"
      },
      "execution_count": null,
      "outputs": []
    },
    {
      "cell_type": "code",
      "source": [
        "data.head(2)"
      ],
      "metadata": {
        "id": "ZTf5hlifztam",
        "colab": {
          "base_uri": "https://localhost:8080/",
          "height": 176
        },
        "outputId": "47409d18-9a5f-4e34-b376-bc16c094d0f5"
      },
      "execution_count": null,
      "outputs": [
        {
          "output_type": "execute_result",
          "data": {
            "text/plain": [
              "         pm10       so2        co        o3       no2       max      pm25  \\\n",
              "162  0.767098  0.640429  0.746177  1.011851  0.518248  0.096961  0.060922   \n",
              "252 -0.107570  0.462397 -1.299404 -1.160652  0.145150 -0.649925 -0.750026   \n",
              "\n",
              "     critical_O3  critical_PM10  critical_PM25  critical_PM26  critical_SO2  \\\n",
              "162    -0.271163      -0.074227       0.293785      -0.052414     -0.052414   \n",
              "252    -0.271163      -0.074227       0.293785      -0.052414     -0.052414   \n",
              "\n",
              "    categori  \n",
              "162   SEDANG  \n",
              "252   SEDANG  "
            ],
            "text/html": [
              "\n",
              "  <div id=\"df-bda54980-4619-47dc-b6b9-48b6e9e1a33f\">\n",
              "    <div class=\"colab-df-container\">\n",
              "      <div>\n",
              "<style scoped>\n",
              "    .dataframe tbody tr th:only-of-type {\n",
              "        vertical-align: middle;\n",
              "    }\n",
              "\n",
              "    .dataframe tbody tr th {\n",
              "        vertical-align: top;\n",
              "    }\n",
              "\n",
              "    .dataframe thead th {\n",
              "        text-align: right;\n",
              "    }\n",
              "</style>\n",
              "<table border=\"1\" class=\"dataframe\">\n",
              "  <thead>\n",
              "    <tr style=\"text-align: right;\">\n",
              "      <th></th>\n",
              "      <th>pm10</th>\n",
              "      <th>so2</th>\n",
              "      <th>co</th>\n",
              "      <th>o3</th>\n",
              "      <th>no2</th>\n",
              "      <th>max</th>\n",
              "      <th>pm25</th>\n",
              "      <th>critical_O3</th>\n",
              "      <th>critical_PM10</th>\n",
              "      <th>critical_PM25</th>\n",
              "      <th>critical_PM26</th>\n",
              "      <th>critical_SO2</th>\n",
              "      <th>categori</th>\n",
              "    </tr>\n",
              "  </thead>\n",
              "  <tbody>\n",
              "    <tr>\n",
              "      <th>162</th>\n",
              "      <td>0.767098</td>\n",
              "      <td>0.640429</td>\n",
              "      <td>0.746177</td>\n",
              "      <td>1.011851</td>\n",
              "      <td>0.518248</td>\n",
              "      <td>0.096961</td>\n",
              "      <td>0.060922</td>\n",
              "      <td>-0.271163</td>\n",
              "      <td>-0.074227</td>\n",
              "      <td>0.293785</td>\n",
              "      <td>-0.052414</td>\n",
              "      <td>-0.052414</td>\n",
              "      <td>SEDANG</td>\n",
              "    </tr>\n",
              "    <tr>\n",
              "      <th>252</th>\n",
              "      <td>-0.107570</td>\n",
              "      <td>0.462397</td>\n",
              "      <td>-1.299404</td>\n",
              "      <td>-1.160652</td>\n",
              "      <td>0.145150</td>\n",
              "      <td>-0.649925</td>\n",
              "      <td>-0.750026</td>\n",
              "      <td>-0.271163</td>\n",
              "      <td>-0.074227</td>\n",
              "      <td>0.293785</td>\n",
              "      <td>-0.052414</td>\n",
              "      <td>-0.052414</td>\n",
              "      <td>SEDANG</td>\n",
              "    </tr>\n",
              "  </tbody>\n",
              "</table>\n",
              "</div>\n",
              "      <button class=\"colab-df-convert\" onclick=\"convertToInteractive('df-bda54980-4619-47dc-b6b9-48b6e9e1a33f')\"\n",
              "              title=\"Convert this dataframe to an interactive table.\"\n",
              "              style=\"display:none;\">\n",
              "        \n",
              "  <svg xmlns=\"http://www.w3.org/2000/svg\" height=\"24px\"viewBox=\"0 0 24 24\"\n",
              "       width=\"24px\">\n",
              "    <path d=\"M0 0h24v24H0V0z\" fill=\"none\"/>\n",
              "    <path d=\"M18.56 5.44l.94 2.06.94-2.06 2.06-.94-2.06-.94-.94-2.06-.94 2.06-2.06.94zm-11 1L8.5 8.5l.94-2.06 2.06-.94-2.06-.94L8.5 2.5l-.94 2.06-2.06.94zm10 10l.94 2.06.94-2.06 2.06-.94-2.06-.94-.94-2.06-.94 2.06-2.06.94z\"/><path d=\"M17.41 7.96l-1.37-1.37c-.4-.4-.92-.59-1.43-.59-.52 0-1.04.2-1.43.59L10.3 9.45l-7.72 7.72c-.78.78-.78 2.05 0 2.83L4 21.41c.39.39.9.59 1.41.59.51 0 1.02-.2 1.41-.59l7.78-7.78 2.81-2.81c.8-.78.8-2.07 0-2.86zM5.41 20L4 18.59l7.72-7.72 1.47 1.35L5.41 20z\"/>\n",
              "  </svg>\n",
              "      </button>\n",
              "      \n",
              "  <style>\n",
              "    .colab-df-container {\n",
              "      display:flex;\n",
              "      flex-wrap:wrap;\n",
              "      gap: 12px;\n",
              "    }\n",
              "\n",
              "    .colab-df-convert {\n",
              "      background-color: #E8F0FE;\n",
              "      border: none;\n",
              "      border-radius: 50%;\n",
              "      cursor: pointer;\n",
              "      display: none;\n",
              "      fill: #1967D2;\n",
              "      height: 32px;\n",
              "      padding: 0 0 0 0;\n",
              "      width: 32px;\n",
              "    }\n",
              "\n",
              "    .colab-df-convert:hover {\n",
              "      background-color: #E2EBFA;\n",
              "      box-shadow: 0px 1px 2px rgba(60, 64, 67, 0.3), 0px 1px 3px 1px rgba(60, 64, 67, 0.15);\n",
              "      fill: #174EA6;\n",
              "    }\n",
              "\n",
              "    [theme=dark] .colab-df-convert {\n",
              "      background-color: #3B4455;\n",
              "      fill: #D2E3FC;\n",
              "    }\n",
              "\n",
              "    [theme=dark] .colab-df-convert:hover {\n",
              "      background-color: #434B5C;\n",
              "      box-shadow: 0px 1px 3px 1px rgba(0, 0, 0, 0.15);\n",
              "      filter: drop-shadow(0px 1px 2px rgba(0, 0, 0, 0.3));\n",
              "      fill: #FFFFFF;\n",
              "    }\n",
              "  </style>\n",
              "\n",
              "      <script>\n",
              "        const buttonEl =\n",
              "          document.querySelector('#df-bda54980-4619-47dc-b6b9-48b6e9e1a33f button.colab-df-convert');\n",
              "        buttonEl.style.display =\n",
              "          google.colab.kernel.accessAllowed ? 'block' : 'none';\n",
              "\n",
              "        async function convertToInteractive(key) {\n",
              "          const element = document.querySelector('#df-bda54980-4619-47dc-b6b9-48b6e9e1a33f');\n",
              "          const dataTable =\n",
              "            await google.colab.kernel.invokeFunction('convertToInteractive',\n",
              "                                                     [key], {});\n",
              "          if (!dataTable) return;\n",
              "\n",
              "          const docLinkHtml = 'Like what you see? Visit the ' +\n",
              "            '<a target=\"_blank\" href=https://colab.research.google.com/notebooks/data_table.ipynb>data table notebook</a>'\n",
              "            + ' to learn more about interactive tables.';\n",
              "          element.innerHTML = '';\n",
              "          dataTable['output_type'] = 'display_data';\n",
              "          await google.colab.output.renderOutput(dataTable, element);\n",
              "          const docLink = document.createElement('div');\n",
              "          docLink.innerHTML = docLinkHtml;\n",
              "          element.appendChild(docLink);\n",
              "        }\n",
              "      </script>\n",
              "    </div>\n",
              "  </div>\n",
              "  "
            ]
          },
          "metadata": {},
          "execution_count": 130
        }
      ]
    },
    {
      "cell_type": "code",
      "source": [
        "import pandas as pd\n",
        "from sklearn.utils import resample,shuffle\n",
        "\n",
        "df_1 = data[data['categori'] == 'BAIK']\n",
        "\n",
        "other_df = data[data['categori'] != 'BAIK']  \n",
        "\n",
        "df_1_upsampled = resample(df_1,random_state=42,n_samples=100,replace=True)\n",
        "\n",
        "df_upsampled = pd.concat([df_1_upsampled,other_df])\n",
        "# df_upsampled"
      ],
      "metadata": {
        "id": "jT5qtXb9zKWm"
      },
      "execution_count": null,
      "outputs": []
    },
    {
      "cell_type": "code",
      "source": [
        "df_upsampled['categori'].value_counts()"
      ],
      "metadata": {
        "colab": {
          "base_uri": "https://localhost:8080/"
        },
        "id": "mw-JplCg39NG",
        "outputId": "780d326b-5ac0-4032-9efe-d80612457d90"
      },
      "execution_count": null,
      "outputs": [
        {
          "output_type": "execute_result",
          "data": {
            "text/plain": [
              "SEDANG         184\n",
              "TIDAK SEHAT    107\n",
              "BAIK           100\n",
              "Name: categori, dtype: int64"
            ]
          },
          "metadata": {},
          "execution_count": 132
        }
      ]
    },
    {
      "cell_type": "code",
      "source": [
        "df_upsampled.head(3)"
      ],
      "metadata": {
        "colab": {
          "base_uri": "https://localhost:8080/",
          "height": 207
        },
        "id": "zBakci6L6u2P",
        "outputId": "c8a6d88e-8085-4c4c-db65-8feacb11b11a"
      },
      "execution_count": null,
      "outputs": [
        {
          "output_type": "execute_result",
          "data": {
            "text/plain": [
              "         pm10       so2        co        o3       no2       max      pm25  \\\n",
              "294 -2.051276 -1.495961 -1.299404 -0.919263 -1.595973 -1.626623 -1.810497   \n",
              "294 -2.051276 -1.495961 -1.299404 -0.919263 -1.595973 -1.626623 -1.810497   \n",
              "294 -2.051276 -1.495961 -1.299404 -0.919263 -1.595973 -1.626623 -1.810497   \n",
              "\n",
              "     critical_O3  critical_PM10  critical_PM25  critical_PM26  critical_SO2  \\\n",
              "294    -0.271163      -0.074227       0.293785      -0.052414     -0.052414   \n",
              "294    -0.271163      -0.074227       0.293785      -0.052414     -0.052414   \n",
              "294    -0.271163      -0.074227       0.293785      -0.052414     -0.052414   \n",
              "\n",
              "    categori  \n",
              "294     BAIK  \n",
              "294     BAIK  \n",
              "294     BAIK  "
            ],
            "text/html": [
              "\n",
              "  <div id=\"df-d2f9ff34-c8f6-4191-b2a7-12d8710715ce\">\n",
              "    <div class=\"colab-df-container\">\n",
              "      <div>\n",
              "<style scoped>\n",
              "    .dataframe tbody tr th:only-of-type {\n",
              "        vertical-align: middle;\n",
              "    }\n",
              "\n",
              "    .dataframe tbody tr th {\n",
              "        vertical-align: top;\n",
              "    }\n",
              "\n",
              "    .dataframe thead th {\n",
              "        text-align: right;\n",
              "    }\n",
              "</style>\n",
              "<table border=\"1\" class=\"dataframe\">\n",
              "  <thead>\n",
              "    <tr style=\"text-align: right;\">\n",
              "      <th></th>\n",
              "      <th>pm10</th>\n",
              "      <th>so2</th>\n",
              "      <th>co</th>\n",
              "      <th>o3</th>\n",
              "      <th>no2</th>\n",
              "      <th>max</th>\n",
              "      <th>pm25</th>\n",
              "      <th>critical_O3</th>\n",
              "      <th>critical_PM10</th>\n",
              "      <th>critical_PM25</th>\n",
              "      <th>critical_PM26</th>\n",
              "      <th>critical_SO2</th>\n",
              "      <th>categori</th>\n",
              "    </tr>\n",
              "  </thead>\n",
              "  <tbody>\n",
              "    <tr>\n",
              "      <th>294</th>\n",
              "      <td>-2.051276</td>\n",
              "      <td>-1.495961</td>\n",
              "      <td>-1.299404</td>\n",
              "      <td>-0.919263</td>\n",
              "      <td>-1.595973</td>\n",
              "      <td>-1.626623</td>\n",
              "      <td>-1.810497</td>\n",
              "      <td>-0.271163</td>\n",
              "      <td>-0.074227</td>\n",
              "      <td>0.293785</td>\n",
              "      <td>-0.052414</td>\n",
              "      <td>-0.052414</td>\n",
              "      <td>BAIK</td>\n",
              "    </tr>\n",
              "    <tr>\n",
              "      <th>294</th>\n",
              "      <td>-2.051276</td>\n",
              "      <td>-1.495961</td>\n",
              "      <td>-1.299404</td>\n",
              "      <td>-0.919263</td>\n",
              "      <td>-1.595973</td>\n",
              "      <td>-1.626623</td>\n",
              "      <td>-1.810497</td>\n",
              "      <td>-0.271163</td>\n",
              "      <td>-0.074227</td>\n",
              "      <td>0.293785</td>\n",
              "      <td>-0.052414</td>\n",
              "      <td>-0.052414</td>\n",
              "      <td>BAIK</td>\n",
              "    </tr>\n",
              "    <tr>\n",
              "      <th>294</th>\n",
              "      <td>-2.051276</td>\n",
              "      <td>-1.495961</td>\n",
              "      <td>-1.299404</td>\n",
              "      <td>-0.919263</td>\n",
              "      <td>-1.595973</td>\n",
              "      <td>-1.626623</td>\n",
              "      <td>-1.810497</td>\n",
              "      <td>-0.271163</td>\n",
              "      <td>-0.074227</td>\n",
              "      <td>0.293785</td>\n",
              "      <td>-0.052414</td>\n",
              "      <td>-0.052414</td>\n",
              "      <td>BAIK</td>\n",
              "    </tr>\n",
              "  </tbody>\n",
              "</table>\n",
              "</div>\n",
              "      <button class=\"colab-df-convert\" onclick=\"convertToInteractive('df-d2f9ff34-c8f6-4191-b2a7-12d8710715ce')\"\n",
              "              title=\"Convert this dataframe to an interactive table.\"\n",
              "              style=\"display:none;\">\n",
              "        \n",
              "  <svg xmlns=\"http://www.w3.org/2000/svg\" height=\"24px\"viewBox=\"0 0 24 24\"\n",
              "       width=\"24px\">\n",
              "    <path d=\"M0 0h24v24H0V0z\" fill=\"none\"/>\n",
              "    <path d=\"M18.56 5.44l.94 2.06.94-2.06 2.06-.94-2.06-.94-.94-2.06-.94 2.06-2.06.94zm-11 1L8.5 8.5l.94-2.06 2.06-.94-2.06-.94L8.5 2.5l-.94 2.06-2.06.94zm10 10l.94 2.06.94-2.06 2.06-.94-2.06-.94-.94-2.06-.94 2.06-2.06.94z\"/><path d=\"M17.41 7.96l-1.37-1.37c-.4-.4-.92-.59-1.43-.59-.52 0-1.04.2-1.43.59L10.3 9.45l-7.72 7.72c-.78.78-.78 2.05 0 2.83L4 21.41c.39.39.9.59 1.41.59.51 0 1.02-.2 1.41-.59l7.78-7.78 2.81-2.81c.8-.78.8-2.07 0-2.86zM5.41 20L4 18.59l7.72-7.72 1.47 1.35L5.41 20z\"/>\n",
              "  </svg>\n",
              "      </button>\n",
              "      \n",
              "  <style>\n",
              "    .colab-df-container {\n",
              "      display:flex;\n",
              "      flex-wrap:wrap;\n",
              "      gap: 12px;\n",
              "    }\n",
              "\n",
              "    .colab-df-convert {\n",
              "      background-color: #E8F0FE;\n",
              "      border: none;\n",
              "      border-radius: 50%;\n",
              "      cursor: pointer;\n",
              "      display: none;\n",
              "      fill: #1967D2;\n",
              "      height: 32px;\n",
              "      padding: 0 0 0 0;\n",
              "      width: 32px;\n",
              "    }\n",
              "\n",
              "    .colab-df-convert:hover {\n",
              "      background-color: #E2EBFA;\n",
              "      box-shadow: 0px 1px 2px rgba(60, 64, 67, 0.3), 0px 1px 3px 1px rgba(60, 64, 67, 0.15);\n",
              "      fill: #174EA6;\n",
              "    }\n",
              "\n",
              "    [theme=dark] .colab-df-convert {\n",
              "      background-color: #3B4455;\n",
              "      fill: #D2E3FC;\n",
              "    }\n",
              "\n",
              "    [theme=dark] .colab-df-convert:hover {\n",
              "      background-color: #434B5C;\n",
              "      box-shadow: 0px 1px 3px 1px rgba(0, 0, 0, 0.15);\n",
              "      filter: drop-shadow(0px 1px 2px rgba(0, 0, 0, 0.3));\n",
              "      fill: #FFFFFF;\n",
              "    }\n",
              "  </style>\n",
              "\n",
              "      <script>\n",
              "        const buttonEl =\n",
              "          document.querySelector('#df-d2f9ff34-c8f6-4191-b2a7-12d8710715ce button.colab-df-convert');\n",
              "        buttonEl.style.display =\n",
              "          google.colab.kernel.accessAllowed ? 'block' : 'none';\n",
              "\n",
              "        async function convertToInteractive(key) {\n",
              "          const element = document.querySelector('#df-d2f9ff34-c8f6-4191-b2a7-12d8710715ce');\n",
              "          const dataTable =\n",
              "            await google.colab.kernel.invokeFunction('convertToInteractive',\n",
              "                                                     [key], {});\n",
              "          if (!dataTable) return;\n",
              "\n",
              "          const docLinkHtml = 'Like what you see? Visit the ' +\n",
              "            '<a target=\"_blank\" href=https://colab.research.google.com/notebooks/data_table.ipynb>data table notebook</a>'\n",
              "            + ' to learn more about interactive tables.';\n",
              "          element.innerHTML = '';\n",
              "          dataTable['output_type'] = 'display_data';\n",
              "          await google.colab.output.renderOutput(dataTable, element);\n",
              "          const docLink = document.createElement('div');\n",
              "          docLink.innerHTML = docLinkHtml;\n",
              "          element.appendChild(docLink);\n",
              "        }\n",
              "      </script>\n",
              "    </div>\n",
              "  </div>\n",
              "  "
            ]
          },
          "metadata": {},
          "execution_count": 133
        }
      ]
    },
    {
      "cell_type": "code",
      "source": [
        "X_train = df_upsampled.drop(['categori'],axis=1)\n",
        "y_train = df_upsampled['categori']"
      ],
      "metadata": {
        "id": "Iqz5ihR029iP"
      },
      "execution_count": null,
      "outputs": []
    },
    {
      "cell_type": "code",
      "source": [
        "y_train.value_counts()"
      ],
      "metadata": {
        "colab": {
          "base_uri": "https://localhost:8080/"
        },
        "id": "-QPDYmG_7vEJ",
        "outputId": "10effe24-e62c-4507-b433-ee588e7cbdce"
      },
      "execution_count": null,
      "outputs": [
        {
          "output_type": "execute_result",
          "data": {
            "text/plain": [
              "SEDANG         184\n",
              "TIDAK SEHAT    107\n",
              "BAIK           100\n",
              "Name: categori, dtype: int64"
            ]
          },
          "metadata": {},
          "execution_count": 135
        }
      ]
    },
    {
      "cell_type": "markdown",
      "source": [
        "# Modeling"
      ],
      "metadata": {
        "id": "2luTlM-vIAZO"
      }
    },
    {
      "cell_type": "markdown",
      "source": [
        "##KNeighborsClassifier"
      ],
      "metadata": {
        "id": "mxCGhc1FpIJu"
      }
    },
    {
      "cell_type": "code",
      "source": [
        "from sklearn.metrics import f1_score"
      ],
      "metadata": {
        "id": "e1TO-3W59csS"
      },
      "execution_count": null,
      "outputs": []
    },
    {
      "cell_type": "code",
      "source": [
        "from sklearn.neighbors import KNeighborsClassifier\n",
        "from sklearn import metrics\n",
        "\n",
        "knn = KNeighborsClassifier(n_neighbors=3)\n",
        "knn.fit(X_train, y_train)\n",
        "y_pred = knn.predict(X_test)\n",
        "score = metrics.accuracy_score(y_test, y_pred)\n",
        "\n",
        "print(score)"
      ],
      "metadata": {
        "colab": {
          "base_uri": "https://localhost:8080/"
        },
        "id": "8sbraIIXJ-OR",
        "outputId": "d0c1aa77-8baf-4dc9-92e7-8378ed79567e"
      },
      "execution_count": null,
      "outputs": [
        {
          "output_type": "stream",
          "name": "stdout",
          "text": [
            "0.9178082191780822\n"
          ]
        }
      ]
    },
    {
      "cell_type": "code",
      "source": [
        "f1_score(y_test, y_pred, average='weighted')"
      ],
      "metadata": {
        "colab": {
          "base_uri": "https://localhost:8080/"
        },
        "id": "KPGmX5Hv9x2m",
        "outputId": "f48a88d2-0897-44a7-823c-d707cdc5dfc2"
      },
      "execution_count": null,
      "outputs": [
        {
          "output_type": "execute_result",
          "data": {
            "text/plain": [
              "0.9052304840326354"
            ]
          },
          "metadata": {},
          "execution_count": 141
        }
      ]
    },
    {
      "cell_type": "markdown",
      "source": [
        "## AdaBoost"
      ],
      "metadata": {
        "id": "8uja4wqF0kG_"
      }
    },
    {
      "cell_type": "code",
      "source": [
        "from sklearn.ensemble import AdaBoostClassifier\n",
        "from sklearn import metrics\n",
        "\n",
        "ab = AdaBoostClassifier(\n",
        "  n_estimators= 10,\n",
        "  learning_rate= 1\n",
        ")\n",
        "\n",
        "ab.fit(X_train,y_train)\n",
        "y_pred = ab.predict(X_test)\n",
        "score = metrics.accuracy_score(y_test, y_pred)\n",
        "\n",
        "print(score)"
      ],
      "metadata": {
        "colab": {
          "base_uri": "https://localhost:8080/"
        },
        "id": "I5bQSVZj0sIk",
        "outputId": "879ad25a-71ce-4f9a-e577-cc1a4da3414c"
      },
      "execution_count": null,
      "outputs": [
        {
          "output_type": "stream",
          "name": "stdout",
          "text": [
            "0.9726027397260274\n"
          ]
        }
      ]
    },
    {
      "cell_type": "code",
      "source": [
        "f1_score(y_test, y_pred, average='weighted')"
      ],
      "metadata": {
        "colab": {
          "base_uri": "https://localhost:8080/"
        },
        "id": "5WHeq53THkqC",
        "outputId": "d1fae4d6-4c04-4b6f-ea79-dcc559ac65a5"
      },
      "execution_count": null,
      "outputs": [
        {
          "output_type": "execute_result",
          "data": {
            "text/plain": [
              "0.9592465753424658"
            ]
          },
          "metadata": {},
          "execution_count": 145
        }
      ]
    }
  ],
  "metadata": {
    "colab": {
      "name": "Tugas_Akhir (1).ipynb",
      "provenance": [],
      "collapsed_sections": [
        "yvvfp8jqDLx9",
        "cH6rGCx7Dh-H",
        "kamXmgmJOLdC",
        "8d0Du7bjudL6",
        "-GBEkIqnUE7r",
        "yXS2zpuUE0tt",
        "B5AvlnJriVj9",
        "GEYmQDdcMouZ",
        "ACPPl7NNr41D",
        "95-BKf2zNnZE",
        "Q5NQnkY4jSBW",
        "cA5FfAVrE9c4",
        "fDT-8NmCO59e",
        "AqV63NQBXZlT",
        "bRRXRW4AnxXe",
        "pLhgRLKEy6O2",
        "2fsT_FwnvNMY",
        "FD190w6CgeEq",
        "VfKofT0V3XZm",
        "sj7P9TPr4lEs",
        "t9zvvuvS4MiS",
        "bQKeODQkzBoc",
        "2luTlM-vIAZO",
        "mxCGhc1FpIJu"
      ]
    },
    "kernelspec": {
      "display_name": "Python 3",
      "name": "python3"
    },
    "language_info": {
      "name": "python"
    }
  },
  "nbformat": 4,
  "nbformat_minor": 0
}
